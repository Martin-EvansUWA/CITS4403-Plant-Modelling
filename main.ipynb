{
 "cells": [
  {
   "cell_type": "markdown",
   "metadata": {},
   "source": [
    "# Setup\n",
    "Imports"
   ]
  },
  {
   "cell_type": "code",
   "execution_count": 167,
   "metadata": {},
   "outputs": [],
   "source": [
    "import matplotlib.pyplot as plt\n",
    "import numpy as np\n",
    "from os.path import basename, exists\n",
    "\n",
    "def download(url):\n",
    "    filename = basename(url)\n",
    "    if not exists(filename):\n",
    "        from urllib.request import urlretrieve\n",
    "        local, _ = urlretrieve(url, filename)\n",
    "        print('Downloaded ' + local)\n",
    "\n",
    "download('https://github.com/AllenDowney/ThinkComplexity2/raw/master/notebooks/utils.py')\n",
    "download('https://github.com/AllenDowney/ThinkComplexity2/raw/master/notebooks/Cell2D.py')"
   ]
  },
  {
   "cell_type": "markdown",
   "metadata": {},
   "source": [
    "# Agent\n",
    "\n",
    "The plant in which inhabits a given ecosystem.\n",
    "\n",
    "### Attributes:\n",
    "- **loc**: (x,y) location on grid of object\n",
    "- **age**: number of steps plant has been alive, incremented each step\n",
    "- **size**: 'vertical height' of plant (used to determine survival when fighting for resources)\n",
    "- **type**: species of plant\n",
    "- **lifespan**: Age at which the plant will die\n",
    "- **resilience**: Constant used to determine survival when fighting for limited resources\n",
    "- **growth_rate**: The amount in which size will be increased by every step\n",
    "- **reproduction_area**: The area around the plant in which new plants can be created\n",
    "- **reproduction_rate**: For any of the given surrounding neighbours, in an area defined by the reproduction_area, if unoccupied, the chance that a new plant of the same type will appear"
   ]
  },
  {
   "cell_type": "code",
   "execution_count": 168,
   "metadata": {},
   "outputs": [],
   "source": [
    "class Plant:\n",
    "\n",
    "    def __init__(self, location, params):\n",
    "        \n",
    "        self.genes = params\n",
    "        self.loc = tuple(location)\n",
    "        self.age = 0\n",
    "        self.size = 0\n",
    "        self.type = params[\"type\"]\n",
    "        self.colour = params[\"colour\"]\n",
    "        self.lifespan = int(np.random.uniform(params[\"min_lifespan\"], params[\"max_lifespan\"]))\n",
    "        self.resilience = np.random.uniform(params[\"min_resilience\"], params[\"max_resilience\"])\n",
    "        self.growth_rate = np.random.uniform(params[\"min_growth_rate\"], params[\"max_growth_rate\"])\n",
    "        self.reproduction_rate = np.random.uniform(params[\"min_reproduction_rate\"], params[\"max_reproduction_rate\"])\n",
    "        self.reproduction_area = params[\"reproduction_area\"]\n",
    "\n",
    "    def step(self):\n",
    "        self.age += 1\n",
    "        self.size = self.size + self.growth_rate\n",
    "        return 0\n",
    "    \n",
    "    def reproduce(self, ecosystem):\n",
    "        # return a list of plants of the same type to be input into the eco\n",
    "        empty_neighbours = ecosystem.get_empty_neighbours(self)\n",
    "        if(len(empty_neighbours) == 0):\n",
    "            return []\n",
    "        offspring = []\n",
    "        for empty_neighbour in empty_neighbours:\n",
    "            random_zero_to_one = np.random.random()\n",
    "            if random_zero_to_one < self.reproduction_rate:\n",
    "                # generate a new agent\n",
    "                temp_plant = Plant(empty_neighbour, self.genes)\n",
    "                offspring.append(temp_plant)\n",
    "        return offspring\n",
    "    \n",
    "    def is_old(self):\n",
    "        return self.age >= self.lifespan\n",
    "    \n"
   ]
  },
  {
   "cell_type": "markdown",
   "metadata": {},
   "source": [
    "# Environment\n",
    "\n",
    "The environment in which the plants will be housed.\n",
    "\n",
    "### Attributes:\n",
    "- **n**: Number of rows and columns for the grid.\n",
    "- **params**: Dictionary of parameters.\n",
    "- **agents**: List of plant agents in the environment.\n",
    "- **occupied**: List of locations occupied by plants.\n",
    "- **competition_constant** : Constant used to determine competition between plants.\n",
    "- **flora_types**: List of different types of flora in the environment.\n",
    "- **colours**: List of colours representing different flora types.\n",
    "- **array**: 2D grid representing the environment, initialized with zeros.\n",
    "- **just_died**: List to track locations where plants have just died to prevent immediate replacement."
   ]
  },
  {
   "cell_type": "code",
   "execution_count": 169,
   "metadata": {},
   "outputs": [],
   "source": [
    "from Cell2D import Cell2D\n",
    "from matplotlib.colors import ListedColormap, BoundaryNorm\n",
    "\n",
    "class Ecosystem(Cell2D):\n",
    "    \"\"\"Represents a given ecoystem.\"\"\"\n",
    "\n",
    "    def __init__(self, n: int, params: dict):\n",
    "        \"\"\"Initializes the attributes.\n",
    "        n: number of rows and columns\n",
    "        params: dictionary of parameters\n",
    "        \"\"\"\n",
    "\n",
    "        self.n = n\n",
    "        self.params = params\n",
    "        self.agents = list(params.get(\"plants\"))\n",
    "        self.occupied = [agent.loc for agent in self.agents]\n",
    "        self.competition_constant = params.get(\"competition_constant\")\n",
    "        self.flora_types = params.get(\"flora_types\")\n",
    "        self.colours = params.get(\"colours\")\n",
    "        self.array = np.zeros((n,n))\n",
    "        self.just_died = [] #Use this list to ensure entities are not replaced in squares where they just died, and each round is an actual round\n",
    "\n",
    "    def make_agents(self, agents: dict[Plant, str]):\n",
    "        \"\"\"\n",
    "        Populate the ecoystem with flora.\n",
    "        This function takes given, specified\n",
    "        plants populates the ecosystem with them. \n",
    "        \"\"\"\n",
    "        for current_agent in agents:\n",
    "            self.add_plant(current_agent)\n",
    "\n",
    "    def add_plant(self, agent: Plant):\n",
    "        \"\"\"Add a given plant to the ecosystem\"\"\"\n",
    "        if not agent.loc in self.just_died:\n",
    "            self.agents.append(agent)\n",
    "            self.occupied.append(agent.loc)\n",
    "    \n",
    "    def remove_plant(self, agent: Plant):\n",
    "        \"\"\" Remove a plant from the ecosystem\"\"\"\n",
    "        self.agents.remove(agent)\n",
    "        self.occupied.remove(agent.loc)\n",
    "        self.just_died.append(agent.loc)\n",
    "\n",
    "    def get_neighbours(self, agent: Plant, radii: int):\n",
    "        loc_row = agent.loc[0]\n",
    "        loc_column = agent.loc[1]\n",
    "\n",
    "        row_start = max(0, loc_row-radii)\n",
    "        row_end = min(self.array.shape[0], loc_row+(radii+1))\n",
    "        \n",
    "        col_start = max(0, loc_column-radii)\n",
    "        col_end = min(self.array.shape[1], loc_column+(radii+1))\n",
    "\n",
    "        neighbours = []\n",
    "        for row in range(row_start, row_end):\n",
    "            for col in range(col_start, col_end):\n",
    "                # Exclude the current plant itself\n",
    "                if not (row == loc_row and col == loc_column):\n",
    "                    neighbours.append((row,col))\n",
    "         \n",
    "        return neighbours\n",
    "\n",
    "    def get_empty_neighbours(self, agent: Plant):\n",
    "        # Define the range for rows and columns, ensuring the indices don't go out of bounds\n",
    "\n",
    "        neighbours = self.get_neighbours(agent, agent.reproduction_area)\n",
    "        empty_neighbours = []\n",
    "\n",
    "        for neighbour in neighbours:\n",
    "            if not (neighbour in self.occupied):\n",
    "                empty_neighbours.append(neighbour)\n",
    "\n",
    "        return empty_neighbours\n",
    "    \n",
    "    def get_occupied_neighbours_agents(self, agent: Plant):\n",
    "        neighbours = self.get_neighbours(agent,1)\n",
    "        occupied_neighbours = []\n",
    "\n",
    "        for neighbour in neighbours:\n",
    "            if (neighbour in self.occupied):\n",
    "                for each_agent in self.agents:\n",
    "                    if each_agent.loc == neighbour:\n",
    "                        occupied_neighbours.append(each_agent)\n",
    "        return occupied_neighbours\n",
    "    \n",
    "    def check_competition(self, agent: Plant):\n",
    "        occupied_neighbours = self.get_occupied_neighbours_agents(agent)\n",
    "        if not occupied_neighbours is None:\n",
    "            for neighbour in occupied_neighbours:\n",
    "                random_zero_to_one = np.random.random()\n",
    "                if random_zero_to_one < self.competition_constant:\n",
    "                    if agent.size + agent.resilience > neighbour.size + neighbour.resilience:\n",
    "                        self.remove_plant(neighbour)\n",
    "                    else:\n",
    "                        self.remove_plant(agent)\n",
    "                        return\n",
    "        \n",
    "\n",
    "    def step(self):\n",
    "        \"\"\"Executes one time step.\"\"\"\n",
    "\n",
    "        self.just_died = [] #Reset this each step\n",
    "\n",
    "\n",
    "        # loop through the agents in random order\n",
    "        random_order = np.random.permutation(self.agents)\n",
    "        for agent in random_order:\n",
    "            if agent in self.agents: #might have been removed midway\n",
    "                agent.step()\n",
    "\n",
    "                # If the agent plant is too old, remove from the ecosystem\n",
    "                if agent.is_old():\n",
    "                    #self.array[agent.loc] = 3 #Death colour (TEMP) (should be red)\n",
    "                    self.remove_plant(agent)\n",
    "                    \n",
    "\n",
    "                else:\n",
    "                    # Generate plant(s) next to the current one\n",
    "                    self.check_competition(agent)\n",
    "\n",
    "                    offspring = agent.reproduce(self)\n",
    "                    if len(offspring) != 0:\n",
    "                        for new_plant in offspring:\n",
    "                            self.add_plant(new_plant)\n",
    "\n",
    "                    \n",
    "\n",
    "        return len(self.agents)\n",
    "\n",
    "    def draw(self):\n",
    "        \"\"\"Draws the ecosystem as a cellular automata grid.\"\"\"\n",
    "        # Clear the previous figure\n",
    "        plt.clf()\n",
    "        \n",
    "        cmap = ListedColormap(self.colours)\n",
    "        bound = []\n",
    "        for i in range(len(self.flora_types) + 2):\n",
    "            bound.append(i)\n",
    "        norm = BoundaryNorm(bound, cmap.N)\n",
    "        # Update the array based on the positions of the agents\n",
    "        for agent in self.agents:\n",
    "            for index, type in enumerate(self.flora_types):\n",
    "                if agent.type == type:\n",
    "                        self.array[agent.loc] = index + 1\n",
    "\n",
    "\n",
    "        # Draw the ecosystem grid\n",
    "        plt.imshow(self.array, cmap=cmap, norm=norm, origin='lower')\n",
    "        plt.gca().axes.get_xaxis().set_visible(False)  # Hide x-axis\n",
    "        plt.gca().axes.get_yaxis().set_visible(False)   \n",
    "        plt.title('Ecosystem Cellular Automata Visualization')\n",
    "        plt.show()\n",
    "\n",
    "        # Reset the array to zero for the next step\n",
    "        self.array.fill(0)\n",
    "\n",
    "    def get_coords(self):\n",
    "        \"\"\"Gets the coordinates of the agents.\n",
    "\n",
    "        Transforms from (row, col) to (x, y).\n",
    "\n",
    "        returns: tuple of sequences, (xs, ys)\n",
    "        \"\"\"\n",
    "        rows, cols = np.transpose([agent.loc for agent in self.agents])\n",
    "        xs = cols + 0.5\n",
    "        ys = rows + 0.5\n",
    "        return xs, ys"
   ]
  },
  {
   "cell_type": "markdown",
   "metadata": {},
   "source": [
    "## Tree vs Weed:\n",
    "\n",
    "The premise behind this test is to display the effects of reproduction rate and resilience."
   ]
  },
  {
   "cell_type": "code",
   "execution_count": 170,
   "metadata": {},
   "outputs": [
    {
     "data": {
      "image/png": "[encoded data removed]",
      "text/plain": [
       "<Figure size 640x480 with 1 Axes>"
      ]
     },
     "metadata": {},
     "output_type": "display_data"
    }
   ],
   "source": [
    "# Example parameters for the plant\n",
    "plant_1_params = {\n",
    "    \"type\": \"Tree\",\n",
    "    \"colour\": \"orange\",\n",
    "    \"min_lifespan\": 10,\n",
    "    \"max_lifespan\": 20,\n",
    "    \"min_resilience\": 0.85,\n",
    "    \"max_resilience\": 1.0,\n",
    "    \"min_growth_rate\": 0.1,\n",
    "    \"max_growth_rate\": 0.3,\n",
    "    \"min_reproduction_rate\": 0.05,\n",
    "    \"max_reproduction_rate\": 0.1,\n",
    "    \"reproduction_area\": 2}\n",
    "\n",
    "plant_2_params = {\n",
    "    \"type\": \"Weed\",\n",
    "    \"colour\": \"darkgreen\",\n",
    "    \"min_lifespan\": 2,\n",
    "    \"max_lifespan\": 3,\n",
    "    \"min_resilience\": 0.1,\n",
    "    \"max_resilience\": 0.3,\n",
    "    \"min_growth_rate\": 0.3,\n",
    "    \"max_growth_rate\": 0.8,\n",
    "    \"min_reproduction_rate\": 0.7,\n",
    "    \"max_reproduction_rate\": 0.9,\n",
    "    \"reproduction_area\": 1\n",
    "}\n",
    "\n",
    "# Create plant instances\n",
    "plants = []\n",
    "plants.append(Plant((15, 10), plant_1_params))\n",
    "plants.append(Plant((20, 20), plant_2_params))\n",
    "\n",
    "flora_types = [plant.type for plant in plants]\n",
    "colours = [\"white\"] + [plant.colour for plant in plants]\n",
    "\n",
    "params = {\n",
    "    \"plants\": plants,\n",
    "    \"competition_constant\": 0.5, \n",
    "    \"flora_types\": flora_types,\n",
    "    \"colours\": colours\n",
    "    }\n",
    "# Example output to show its properties\n",
    "desert = Ecosystem(50, params)\n",
    "\n",
    "desert.animate(10)"
   ]
  },
  {
   "cell_type": "code",
   "execution_count": 171,
   "metadata": {},
   "outputs": [
    {
     "data": {
      "image/png": "[encoded data removed]",
      "text/plain": [
       "<Figure size 640x480 with 1 Axes>"
      ]
     },
     "metadata": {},
     "output_type": "display_data"
    }
   ],
   "source": [
    "desert.animate(10)"
   ]
  },
  {
   "cell_type": "code",
   "execution_count": 172,
   "metadata": {},
   "outputs": [
    {
     "data": {
      "image/png": "[encoded data removed]",
      "text/plain": [
       "<Figure size 640x480 with 1 Axes>"
      ]
     },
     "metadata": {},
     "output_type": "display_data"
    }
   ],
   "source": [
    "desert.animate(10)"
   ]
  },
  {
   "cell_type": "code",
   "execution_count": 173,
   "metadata": {},
   "outputs": [
    {
     "data": {
      "image/png": "[encoded data removed]",
      "text/plain": [
       "<Figure size 640x480 with 1 Axes>"
      ]
     },
     "metadata": {},
     "output_type": "display_data"
    }
   ],
   "source": [
    "desert.animate(10)"
   ]
  },
  {
   "cell_type": "markdown",
   "metadata": {},
   "source": [
    "## Tree vs Weed 2"
   ]
  },
  {
   "cell_type": "code",
   "execution_count": 180,
   "metadata": {},
   "outputs": [
    {
     "data": {
      "image/png": "[encoded data removed]",
      "text/plain": [
       "<Figure size 640x480 with 1 Axes>"
      ]
     },
     "metadata": {},
     "output_type": "display_data"
    }
   ],
   "source": [
    "# Example parameters for the plant\n",
    "plant_1_params = {\n",
    "    \"type\": \"Tree\",\n",
    "    \"colour\": \"orange\",\n",
    "    \"min_lifespan\": 15,\n",
    "    \"max_lifespan\": 30,\n",
    "    \"min_resilience\": 0.85,\n",
    "    \"max_resilience\": 1.0,\n",
    "    \"min_growth_rate\": 0.1,\n",
    "    \"max_growth_rate\": 0.3,\n",
    "    \"min_reproduction_rate\": 0.1,\n",
    "    \"max_reproduction_rate\": 0.2,\n",
    "    \"reproduction_area\": 1}\n",
    "\n",
    "plant_2_params = {\n",
    "    \"type\": \"Weed\",\n",
    "    \"colour\": \"darkgreen\",\n",
    "    \"min_lifespan\": 2,\n",
    "    \"max_lifespan\": 2,\n",
    "    \"min_resilience\": 0.01,\n",
    "    \"max_resilience\": 0.03,\n",
    "    \"min_growth_rate\": 0.3,\n",
    "    \"max_growth_rate\": 0.8,\n",
    "    \"min_reproduction_rate\": 0.7,\n",
    "    \"max_reproduction_rate\": 0.9,\n",
    "    \"reproduction_area\": 1\n",
    "}\n",
    "\n",
    "# Create plant instances\n",
    "plants = []\n",
    "plants.append(Plant((15, 10), plant_1_params))\n",
    "plants.append(Plant((20, 20), plant_2_params))\n",
    "\n",
    "flora_types = [plant.type for plant in plants]\n",
    "colours = [\"white\"] + [plant.colour for plant in plants]\n",
    "\n",
    "params = {\n",
    "    \"plants\": plants,\n",
    "    \"competition_constant\": 0.5, \n",
    "    \"flora_types\": flora_types,\n",
    "    \"colours\": colours\n",
    "    }\n",
    "# Example output to show its properties\n",
    "desert = Ecosystem(50, params)\n",
    "\n",
    "desert.animate(20)"
   ]
  },
  {
   "cell_type": "code",
   "execution_count": 181,
   "metadata": {},
   "outputs": [
    {
     "data": {
      "image/png": "[encoded data removed]",
      "text/plain": [
       "<Figure size 640x480 with 1 Axes>"
      ]
     },
     "metadata": {},
     "output_type": "display_data"
    }
   ],
   "source": [
    "desert.animate(20)"
   ]
  },
  {
   "cell_type": "code",
   "execution_count": 182,
   "metadata": {},
   "outputs": [
    {
     "data": {
      "image/png": "[encoded data removed]",
      "text/plain": [
       "<Figure size 640x480 with 1 Axes>"
      ]
     },
     "metadata": {},
     "output_type": "display_data"
    }
   ],
   "source": [
    "desert.animate(20)"
   ]
  }
 ],
 "metadata": {
  "kernelspec": {
   "display_name": "venv",
   "language": "python",
   "name": "python3"
  },
  "language_info": {
   "codemirror_mode": {
    "name": "ipython",
    "version": 3
   },
   "file_extension": ".py",
   "mimetype": "text/x-python",
   "name": "python",
   "nbconvert_exporter": "python",
   "pygments_lexer": "ipython3",
   "version": "3.11.2"
  }
 },
 "nbformat": 4,
 "nbformat_minor": 2
}
